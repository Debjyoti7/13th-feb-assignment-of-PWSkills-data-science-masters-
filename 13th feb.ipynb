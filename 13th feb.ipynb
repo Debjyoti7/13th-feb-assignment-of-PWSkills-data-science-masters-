{
 "cells": [
  {
   "cell_type": "markdown",
   "id": "d6facffe-8afa-4ab4-8521-40fcfa321f18",
   "metadata": {},
   "source": [
    "# Q1. Explain why we have to use the Exception class while creating a Custom Exception."
   ]
  },
  {
   "cell_type": "markdown",
   "id": "84d8c555-5465-42f0-a013-211411ff5571",
   "metadata": {},
   "source": [
    "# When creating a custom exception in Java (or any language that supports exceptions), it is important to use the Exception class as the base class for the custom exception. This is because the Exception class is designed to handle errors and exceptions in a structured way, with methods and properties that make it easy to catch and handle exceptions.\n",
    "\n",
    "# Using the Exception class as the base class for a custom exception allows the custom exception to inherit all the properties and methods of the Exception class. This includes the ability to add a message to the exception, stack trace information, and other useful properties that can be used to diagnose and handle the exception."
   ]
  },
  {
   "cell_type": "markdown",
   "id": "219f7572-e616-4982-b2b5-42dc17bc6e0f",
   "metadata": {},
   "source": [
    "# Q2. Write a python program to print Python Exception Hierarchy."
   ]
  },
  {
   "cell_type": "code",
   "execution_count": 2,
   "id": "748037e9-7692-4c19-a6dd-4475a6056953",
   "metadata": {},
   "outputs": [
    {
     "ename": "TypeError",
     "evalue": "issubclass() arg 1 must be a class",
     "output_type": "error",
     "traceback": [
      "\u001b[0;31m---------------------------------------------------------------------------\u001b[0m",
      "\u001b[0;31mTypeError\u001b[0m                                 Traceback (most recent call last)",
      "Cell \u001b[0;32mIn[2], line 14\u001b[0m\n\u001b[1;32m     12\u001b[0m         \u001b[38;5;28;01mfor\u001b[39;00m subexc \u001b[38;5;129;01min\u001b[39;00m hierarchy[exc]:\n\u001b[1;32m     13\u001b[0m             \u001b[38;5;28mprint\u001b[39m(\u001b[38;5;124m\"\u001b[39m\u001b[38;5;124m  -->\u001b[39m\u001b[38;5;124m\"\u001b[39m, subexc)\n\u001b[0;32m---> 14\u001b[0m \u001b[43mprint_exception_hierarchy\u001b[49m\u001b[43m(\u001b[49m\u001b[43m)\u001b[49m\n",
      "Cell \u001b[0;32mIn[2], line 8\u001b[0m, in \u001b[0;36mprint_exception_hierarchy\u001b[0;34m()\u001b[0m\n\u001b[1;32m      6\u001b[0m         hierarchy[exc] \u001b[38;5;241m=\u001b[39m []\n\u001b[1;32m      7\u001b[0m         \u001b[38;5;28;01mfor\u001b[39;00m subexc \u001b[38;5;129;01min\u001b[39;00m \u001b[38;5;28mdir\u001b[39m(\u001b[38;5;28mgetattr\u001b[39m(__builtins__, exc)):\n\u001b[0;32m----> 8\u001b[0m             \u001b[38;5;28;01mif\u001b[39;00m \u001b[38;5;28;43missubclass\u001b[39;49m\u001b[43m(\u001b[49m\u001b[38;5;28;43mgetattr\u001b[39;49m\u001b[43m(\u001b[49m\u001b[38;5;28;43mgetattr\u001b[39;49m\u001b[43m(\u001b[49m\u001b[43m__builtins__\u001b[49m\u001b[43m,\u001b[49m\u001b[43m \u001b[49m\u001b[43mexc\u001b[49m\u001b[43m)\u001b[49m\u001b[43m,\u001b[49m\u001b[43m \u001b[49m\u001b[43msubexc\u001b[49m\u001b[43m)\u001b[49m\u001b[43m,\u001b[49m\u001b[43m \u001b[49m\u001b[38;5;167;43;01mBaseException\u001b[39;49;00m\u001b[43m)\u001b[49m:\n\u001b[1;32m      9\u001b[0m                 hierarchy[exc]\u001b[38;5;241m.\u001b[39mappend(subexc)\n\u001b[1;32m     10\u001b[0m \u001b[38;5;28;01mfor\u001b[39;00m exc \u001b[38;5;129;01min\u001b[39;00m hierarchy:\n",
      "\u001b[0;31mTypeError\u001b[0m: issubclass() arg 1 must be a class"
     ]
    }
   ],
   "source": [
    "# Print the Python Exception Hierarchy\n",
    "def print_exception_hierarchy():\n",
    "    hierarchy = {}\n",
    "    for exc in dir(__builtins__):\n",
    "        if issubclass(getattr(__builtins__, exc), BaseException):\n",
    "            hierarchy[exc] = []\n",
    "            for subexc in dir(getattr(__builtins__, exc)):\n",
    "                if issubclass(getattr(getattr(__builtins__, exc), subexc), BaseException):\n",
    "                    hierarchy[exc].append(subexc)\n",
    "    for exc in hierarchy:\n",
    "        print(exc)\n",
    "        for subexc in hierarchy[exc]:\n",
    "            print(\"  -->\", subexc)\n",
    "\n"
   ]
  },
  {
   "cell_type": "code",
   "execution_count": 3,
   "id": "8dcb97e3-a219-401c-8972-1e8b5304eabe",
   "metadata": {},
   "outputs": [
    {
     "ename": "TypeError",
     "evalue": "issubclass() arg 1 must be a class",
     "output_type": "error",
     "traceback": [
      "\u001b[0;31m---------------------------------------------------------------------------\u001b[0m",
      "\u001b[0;31mTypeError\u001b[0m                                 Traceback (most recent call last)",
      "Cell \u001b[0;32mIn[3], line 1\u001b[0m\n\u001b[0;32m----> 1\u001b[0m \u001b[43mprint_exception_hierarchy\u001b[49m\u001b[43m(\u001b[49m\u001b[43m)\u001b[49m\n",
      "Cell \u001b[0;32mIn[2], line 8\u001b[0m, in \u001b[0;36mprint_exception_hierarchy\u001b[0;34m()\u001b[0m\n\u001b[1;32m      6\u001b[0m         hierarchy[exc] \u001b[38;5;241m=\u001b[39m []\n\u001b[1;32m      7\u001b[0m         \u001b[38;5;28;01mfor\u001b[39;00m subexc \u001b[38;5;129;01min\u001b[39;00m \u001b[38;5;28mdir\u001b[39m(\u001b[38;5;28mgetattr\u001b[39m(__builtins__, exc)):\n\u001b[0;32m----> 8\u001b[0m             \u001b[38;5;28;01mif\u001b[39;00m \u001b[38;5;28;43missubclass\u001b[39;49m\u001b[43m(\u001b[49m\u001b[38;5;28;43mgetattr\u001b[39;49m\u001b[43m(\u001b[49m\u001b[38;5;28;43mgetattr\u001b[39;49m\u001b[43m(\u001b[49m\u001b[43m__builtins__\u001b[49m\u001b[43m,\u001b[49m\u001b[43m \u001b[49m\u001b[43mexc\u001b[49m\u001b[43m)\u001b[49m\u001b[43m,\u001b[49m\u001b[43m \u001b[49m\u001b[43msubexc\u001b[49m\u001b[43m)\u001b[49m\u001b[43m,\u001b[49m\u001b[43m \u001b[49m\u001b[38;5;167;43;01mBaseException\u001b[39;49;00m\u001b[43m)\u001b[49m:\n\u001b[1;32m      9\u001b[0m                 hierarchy[exc]\u001b[38;5;241m.\u001b[39mappend(subexc)\n\u001b[1;32m     10\u001b[0m \u001b[38;5;28;01mfor\u001b[39;00m exc \u001b[38;5;129;01min\u001b[39;00m hierarchy:\n",
      "\u001b[0;31mTypeError\u001b[0m: issubclass() arg 1 must be a class"
     ]
    }
   ],
   "source": [
    "print_exception_hierarchy()"
   ]
  },
  {
   "cell_type": "markdown",
   "id": "656d9edd-971a-44e1-a144-adc3f0e45a40",
   "metadata": {},
   "source": [
    "# The ArithmeticError class is a subclass of the built-in Exception class in Python. It is used to represent errors that occur during arithmetic operations. Here are two examples of errors that are defined in the ArithmeticError class:\n",
    "\n",
    "# ZeroDivisionError: This error is raised when attempting to divide a number by zero. For example:"
   ]
  },
  {
   "cell_type": "code",
   "execution_count": 9,
   "id": "b9e9f732-37cc-449f-a367-ec0aec03061a",
   "metadata": {},
   "outputs": [
    {
     "ename": "ZeroDivisionError",
     "evalue": "division by zero",
     "output_type": "error",
     "traceback": [
      "\u001b[0;31m---------------------------------------------------------------------------\u001b[0m",
      "\u001b[0;31mZeroDivisionError\u001b[0m                         Traceback (most recent call last)",
      "Cell \u001b[0;32mIn[9], line 3\u001b[0m\n\u001b[1;32m      1\u001b[0m x \u001b[38;5;241m=\u001b[39m \u001b[38;5;241m10\u001b[39m\n\u001b[1;32m      2\u001b[0m y \u001b[38;5;241m=\u001b[39m \u001b[38;5;241m0\u001b[39m\n\u001b[0;32m----> 3\u001b[0m z \u001b[38;5;241m=\u001b[39m \u001b[43mx\u001b[49m\u001b[43m \u001b[49m\u001b[38;5;241;43m/\u001b[39;49m\u001b[43m \u001b[49m\u001b[43my\u001b[49m  \n",
      "\u001b[0;31mZeroDivisionError\u001b[0m: division by zero"
     ]
    }
   ],
   "source": [
    "x = 10\n",
    "y = 0\n",
    "z = x / y  \n"
   ]
  },
  {
   "cell_type": "markdown",
   "id": "cddf7a05-c3d7-4ae8-ac77-9c2df13d4bf5",
   "metadata": {},
   "source": [
    "# OverflowError: This error is raised when the result of an arithmetic operation exceeds the maximum value that can be represented. For example:"
   ]
  },
  {
   "cell_type": "code",
   "execution_count": 8,
   "id": "f76092d4-e511-4fed-99d8-63f9e3f223e7",
   "metadata": {},
   "outputs": [],
   "source": [
    "import sys\n",
    "\n",
    "x = sys.maxsize \n",
    "\n",
    "y = 2\n",
    "z = x * y  \n"
   ]
  },
  {
   "cell_type": "markdown",
   "id": "f49c877f-f1a4-4c5c-9d4e-4d0f14a7f92e",
   "metadata": {},
   "source": [
    "# Q4. Why LookupError class is used? Explain with an example KeyError and IndexError."
   ]
  },
  {
   "cell_type": "markdown",
   "id": "021e2a33-5bc0-4838-8f77-f7801300cf59",
   "metadata": {},
   "source": [
    "# The LookupError class is a subclass of the built-in Exception class in Python. It is used to represent errors that occur when trying to access an element in a sequence (such as a list, tuple, or dictionary) or a mapping (such as a dictionary) that does not exist. The LookupError class serves as a base class for several more specific exceptions, including KeyError and IndexError.\n",
    "\n",
    "# KeyError is raised when trying to access a key in a dictionary that does not exist, while IndexError is raised when trying to access an index in a list, tuple, or other sequence that is out of range."
   ]
  },
  {
   "cell_type": "code",
   "execution_count": 10,
   "id": "77560f74-85ba-43bc-bcbe-41f8fd1d7ab1",
   "metadata": {},
   "outputs": [
    {
     "ename": "KeyError",
     "evalue": "'pear'",
     "output_type": "error",
     "traceback": [
      "\u001b[0;31m---------------------------------------------------------------------------\u001b[0m",
      "\u001b[0;31mKeyError\u001b[0m                                  Traceback (most recent call last)",
      "Cell \u001b[0;32mIn[10], line 3\u001b[0m\n\u001b[1;32m      1\u001b[0m \u001b[38;5;66;03m# KeyError example\u001b[39;00m\n\u001b[1;32m      2\u001b[0m my_dict \u001b[38;5;241m=\u001b[39m {\u001b[38;5;124m\"\u001b[39m\u001b[38;5;124mapple\u001b[39m\u001b[38;5;124m\"\u001b[39m: \u001b[38;5;241m1\u001b[39m, \u001b[38;5;124m\"\u001b[39m\u001b[38;5;124mbanana\u001b[39m\u001b[38;5;124m\"\u001b[39m: \u001b[38;5;241m2\u001b[39m, \u001b[38;5;124m\"\u001b[39m\u001b[38;5;124morange\u001b[39m\u001b[38;5;124m\"\u001b[39m: \u001b[38;5;241m3\u001b[39m}\n\u001b[0;32m----> 3\u001b[0m \u001b[38;5;28mprint\u001b[39m(\u001b[43mmy_dict\u001b[49m\u001b[43m[\u001b[49m\u001b[38;5;124;43m\"\u001b[39;49m\u001b[38;5;124;43mpear\u001b[39;49m\u001b[38;5;124;43m\"\u001b[39;49m\u001b[43m]\u001b[49m)  \u001b[38;5;66;03m# Raises KeyError: 'pear' not in dictionary\u001b[39;00m\n\u001b[1;32m      5\u001b[0m \u001b[38;5;66;03m# IndexError example\u001b[39;00m\n\u001b[1;32m      6\u001b[0m my_list \u001b[38;5;241m=\u001b[39m [\u001b[38;5;241m1\u001b[39m, \u001b[38;5;241m2\u001b[39m, \u001b[38;5;241m3\u001b[39m]\n",
      "\u001b[0;31mKeyError\u001b[0m: 'pear'"
     ]
    }
   ],
   "source": [
    "# KeyError example\n",
    "my_dict = {\"apple\": 1, \"banana\": 2, \"orange\": 3}\n",
    "print(my_dict[\"pear\"])  # Raises KeyError: 'pear' not in dictionary\n",
    "\n",
    "# IndexError example\n",
    "my_list = [1, 2, 3]\n",
    "print(my_list[3])  # Raises IndexError: list index out of range\n"
   ]
  },
  {
   "cell_type": "markdown",
   "id": "95d96850-6409-40fd-89eb-d3298e3c91a6",
   "metadata": {},
   "source": [
    "# Q5. Explain ImportError. What is ModuleNotFoundError?"
   ]
  },
  {
   "cell_type": "markdown",
   "id": "96cc11ec-3a52-4677-8077-c93a43292792",
   "metadata": {},
   "source": [
    "# In Python, ImportError is a built-in exception class that is raised when there is an error in importing a module. This can occur for a variety of reasons, such as when the module is not found or when there is a problem with the module's code."
   ]
  },
  {
   "cell_type": "code",
   "execution_count": 11,
   "id": "675b98bd-80f7-471a-88f6-1b58f21306e5",
   "metadata": {},
   "outputs": [
    {
     "name": "stdout",
     "output_type": "stream",
     "text": [
      "An error occurred while importing the module: No module named 'some_module'\n",
      "An error occurred while importing the module: No module named 'another_module'\n"
     ]
    }
   ],
   "source": [
    "try:\n",
    "    import some_module  # Try to import a module that doesn't exist\n",
    "except ImportError as e:\n",
    "    print(\"An error occurred while importing the module:\", e)\n",
    "    # Output: An error occurred while importing the module: No module named 'some_module'\n",
    "\n",
    "try:\n",
    "    import another_module  # Try to import a module that doesn't exist\n",
    "except ModuleNotFoundError as e:\n",
    "    print(\"An error occurred while importing the module:\", e)\n",
    "    # Output: An error occurred while importing the module: No module named 'another_module'\n"
   ]
  },
  {
   "cell_type": "markdown",
   "id": "a54f063b-5db3-458f-88a8-80dfaf5eb3a5",
   "metadata": {},
   "source": [
    "# Q6. List down some best practices for exception handling in python."
   ]
  },
  {
   "cell_type": "code",
   "execution_count": null,
   "id": "f196991f-3beb-4b08-a0e5-a48cff31f600",
   "metadata": {},
   "outputs": [],
   "source": []
  }
 ],
 "metadata": {
  "kernelspec": {
   "display_name": "Python 3 (ipykernel)",
   "language": "python",
   "name": "python3"
  },
  "language_info": {
   "codemirror_mode": {
    "name": "ipython",
    "version": 3
   },
   "file_extension": ".py",
   "mimetype": "text/x-python",
   "name": "python",
   "nbconvert_exporter": "python",
   "pygments_lexer": "ipython3",
   "version": "3.10.8"
  }
 },
 "nbformat": 4,
 "nbformat_minor": 5
}
